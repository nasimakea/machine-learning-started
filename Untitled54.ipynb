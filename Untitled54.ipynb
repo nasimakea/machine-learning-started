{
  "nbformat": 4,
  "nbformat_minor": 0,
  "metadata": {
    "colab": {
      "provenance": []
    },
    "kernelspec": {
      "name": "python3",
      "display_name": "Python 3"
    },
    "language_info": {
      "name": "python"
    }
  },
  "cells": [
    {
      "cell_type": "code",
      "execution_count": null,
      "metadata": {
        "id": "38AQSMX-TKzp"
      },
      "outputs": [],
      "source": []
    },
    {
      "cell_type": "markdown",
      "source": [
        "#Q1. Explain the following with an Example\n",
        "#(A) Artificial Intelligence\n",
        "#(B) Machine Learning\n",
        "#(C) Deep Learning"
      ],
      "metadata": {
        "id": "8UadJlrxTz2d"
      }
    },
    {
      "cell_type": "code",
      "source": [],
      "metadata": {
        "id": "KqA79TvIUfVx"
      },
      "execution_count": null,
      "outputs": []
    },
    {
      "cell_type": "markdown",
      "source": [
        "#ANS:-  The artificial intelligence are those computer system which can perform task with the little or no involvement of human beings like Chatgpt which is open AI product can do anything in the least time just by little invovlvement of the human beings .\n",
        "\n",
        "# it brings me to machine learning now , theses Ai products such as alexa or chatgpt are fed by data in machine learning , since it has diffrent algorith , so there are trained by data , before making them AI product , so in machine learning , we usually train our models to predict by feeding them data.\n",
        "\n",
        "\n",
        "# Deep Learning is a subset of machine learning that involves neural networks with multiple layers (deep neural networks). DL algorithms attempt to simulate the human brain's architecture to process data and make decisions. Examples include image and speech recognition, natural language processing, and autonomous vehicles."
      ],
      "metadata": {
        "id": "5OEk7lAsUmy0"
      }
    },
    {
      "cell_type": "code",
      "source": [],
      "metadata": {
        "id": "RstHVEZKVMcB"
      },
      "execution_count": null,
      "outputs": []
    },
    {
      "cell_type": "markdown",
      "source": [
        "#Q2- What is supervised learning? List some examples of supervised learning."
      ],
      "metadata": {
        "id": "RCKSwJQEWMOd"
      }
    },
    {
      "cell_type": "code",
      "source": [],
      "metadata": {
        "id": "JzFJ3ngVWnKv"
      },
      "execution_count": null,
      "outputs": []
    },
    {
      "cell_type": "markdown",
      "source": [
        "# ANS:-In the supervised learning, we already have the dependent and indepeent varaible in our dataset where modeule is trained by the depedent and independet varaibles so that later , dependent varaibles data can be predicted .\n",
        "# Predicting house prices based on features like square footage, number of bedrooms"
      ],
      "metadata": {
        "id": "4m86cgY8Wnx9"
      }
    },
    {
      "cell_type": "code",
      "source": [],
      "metadata": {
        "id": "7ocoMO5GXp5q"
      },
      "execution_count": null,
      "outputs": []
    },
    {
      "cell_type": "markdown",
      "source": [
        "# Q3- What is unsupervised learning? List some examples of unsupervised learning."
      ],
      "metadata": {
        "id": "Xb_7hyZ2XxcF"
      }
    },
    {
      "cell_type": "code",
      "source": [],
      "metadata": {
        "id": "Q0FFqM98YC-F"
      },
      "execution_count": null,
      "outputs": []
    },
    {
      "cell_type": "markdown",
      "source": [
        "# ANS :-\n",
        "#Unsupervised learning is a type of machine learning where the algorithm is given input data without explicit output labels. The goal of unsupervised learning is to find patterns, relationships, or structures within the data without being guided by labeled examples. In other words, the algorithm explores the inherent structure of the data to discover meaningful insights or representations"
      ],
      "metadata": {
        "id": "tFsa2zY6YEAd"
      }
    },
    {
      "cell_type": "code",
      "source": [],
      "metadata": {
        "id": "-iQ_v3mFYpIL"
      },
      "execution_count": null,
      "outputs": []
    },
    {
      "cell_type": "markdown",
      "source": [
        "# Q4- What is thK Difference between AI, ML, DL, and DS?"
      ],
      "metadata": {
        "id": "LkXym81hYtC6"
      }
    },
    {
      "cell_type": "markdown",
      "source": [
        "# ANS:-\n",
        "#AI is the overarching field that encompasses the development of intelligent machines.\n",
        "#ML is a subset of AI that focuses on learning from data to make predictions.\n",
        "#DL is a subset of ML that specifically involves deep neural networks for complex tasks.\n",
        "#DS is a broader field that includes various methods to extract insights from data, incorporating AI and ML techniques."
      ],
      "metadata": {
        "id": "5KxQBQkCZcXj"
      }
    },
    {
      "cell_type": "code",
      "source": [],
      "metadata": {
        "id": "rERfjLN3Y0Dx"
      },
      "execution_count": null,
      "outputs": []
    },
    {
      "cell_type": "markdown",
      "source": [
        "# Q5- What are the main differences between supervised, unsupervised, and semi sumpervised learning?"
      ],
      "metadata": {
        "id": "05tuxjK4Zs83"
      }
    },
    {
      "cell_type": "code",
      "source": [],
      "metadata": {
        "id": "s4CObPxTZ95D"
      },
      "execution_count": null,
      "outputs": []
    },
    {
      "cell_type": "markdown",
      "source": [
        "# ANS:-\n",
        "#when we talk about supervised machine learning , it acts as if it has superviser where training data has both dependent and independent varaibles wich lets know the module that what it has to predict based on what kind of data it will be fed , let's consider the example of house price prediction , the module know it has predict house price based on loaction , area room because it has been fed similar data\n",
        "\n",
        "#  ___\n",
        "\n",
        "# at the same talking about unsupervised machine leanring , where it doesn't have any superviser and doesn't know what it has to predict , so when it is fed  with the data , it only has input data , while it deosn't have out put data , it only finds the pattern among the given data.\n",
        "\n",
        "# __\n",
        "\n",
        "\n",
        "#talking about semi supervised , so it comes in between them where it has the features of both supervised learning and unsupervised learning"
      ],
      "metadata": {
        "id": "S1Rb4lV0Z_g1"
      }
    },
    {
      "cell_type": "code",
      "source": [],
      "metadata": {
        "id": "Tli0omyHbNCO"
      },
      "execution_count": null,
      "outputs": []
    },
    {
      "cell_type": "markdown",
      "source": [
        "# Q6- What is train, test and validation split? Explain the importance of each term."
      ],
      "metadata": {
        "id": "LmPg_l3mbxOg"
      }
    },
    {
      "cell_type": "code",
      "source": [],
      "metadata": {
        "id": "5L4gVhy6b8zC"
      },
      "execution_count": null,
      "outputs": []
    },
    {
      "cell_type": "markdown",
      "source": [
        "# ANS:-\n",
        "\n",
        "\n",
        "#When we get the dataet we basically divide them into three parts traing test and validation dataset\n",
        "\n",
        "\n",
        "# __\n",
        "\n",
        "#where each of them has it's own purpose , talking about the traing dataset , it is used to train the model but after the model is being trained , when it is test it fails to predict with good accuracy then there comes the validation dataset which is used for hyper parameter tuning which helps to prevent from overfitting\n",
        "\n",
        "#__\n",
        "\n",
        "\n",
        "#finally the test dataset , so after the model is trained , it is ready for being tested , there the testing dataset plays it's crucial role. then to check the accuracy , we used the predicted data based on test dataset , and the outcome data of test dataset."
      ],
      "metadata": {
        "id": "usMmwVEacAXM"
      }
    },
    {
      "cell_type": "markdown",
      "source": [
        "# Q7- How can unsupervised learning be used in anomaly detection?"
      ],
      "metadata": {
        "id": "q-WKStPXdzG0"
      }
    },
    {
      "cell_type": "code",
      "source": [],
      "metadata": {
        "id": "7Wdwh37BcDhv"
      },
      "execution_count": null,
      "outputs": []
    },
    {
      "cell_type": "markdown",
      "source": [
        "# ANS:-\n",
        "\n",
        "Suppose we have a dataset of network activity, and you want to detect unusual patterns that may indicate a security threat. An unsupervised learning algorithm, such as a density-based method like DBSCAN (Density-Based Spatial Clustering of Applications with Noise), could be used. Clusters of normal network behavior would be formed, and points outside these clusters could be flagged as potential anomalies."
      ],
      "metadata": {
        "id": "XoHZ1VajeVdB"
      }
    },
    {
      "cell_type": "code",
      "source": [],
      "metadata": {
        "id": "Ubo9bDavea1G"
      },
      "execution_count": null,
      "outputs": []
    },
    {
      "cell_type": "markdown",
      "source": [
        "# Q8- List down some commonly used supervised learning algorithms and unsupervised learning algorithms."
      ],
      "metadata": {
        "id": "tfmxvZ5zeeia"
      }
    },
    {
      "cell_type": "code",
      "source": [],
      "metadata": {
        "id": "zfKbLKL7erR0"
      },
      "execution_count": null,
      "outputs": []
    },
    {
      "cell_type": "markdown",
      "source": [
        "# Supervised Learning Algorithms:\n",
        "\n",
        "#Linear Regression:\n",
        "\n",
        "Used for regression tasks to predict a continuous output variable based on input features.\n",
        "#Logistic Regression:\n",
        "\n",
        "Used for binary classification problems, predicting the probability of an instance belonging to a particular class.\n",
        "#Decision Trees:\n",
        "\n",
        "Can be used for both classification and regression tasks. They partition the input space based on feature values.\n",
        "#Random Forest:\n",
        "\n",
        "Ensemble method using multiple decision trees for improved accuracy and robustness.\n",
        "#Support Vector Machines (SVM):\n",
        "\n",
        "Used for classification and regression tasks by finding a hyperplane that best separates classes or approximates the regression function.\n",
        "#k-Nearest Neighbors (k-NN):\n",
        "\n",
        "A non-parametric algorithm used for classification and regression based on the majority class or average of k-nearest neighbors.\n",
        "#Naive Bayes:\n",
        "\n",
        "Probabilistic algorithm based on Bayes' theorem, commonly used for classification tasks, especially in text categorization.\n",
        "#Neural Networks:\n",
        "\n",
        "Deep learning models composed of interconnected nodes or neurons. Used for various tasks, including image and speech recognition.\n",
        "#Unsupervised Learning Algorithms:\n",
        "# __\n",
        "#K-Means Clustering:\n",
        "\n",
        "Partition data into k clusters based on similarity, aiming to minimize intra-cluster distance.\n",
        "#Hierarchical Clustering:\n",
        "\n",
        "Builds a hierarchy of clusters by recursively merging or splitting them based on similarity.\n",
        "#DBSCAN (Density-Based Spatial Clustering of Applications with Noise):\n",
        "\n",
        "Identifies clusters based on density, suitable for irregularly shaped clusters.\n",
        "#Principal Component Analysis (PCA):\n",
        "\n",
        "Reduces dimensionality by transforming data into a new coordinate system that captures the most significant variance.\n",
        "#t-Distributed Stochastic Neighbor Embedding (t-SNE):\n",
        "\n",
        "Reduces dimensionality for visualization while preserving pairwise similarities between data points.\n",
        "#Autoencoders:\n",
        "\n",
        "Neural network architectures used for dimensionality reduction and feature learning, particularly in deep learning.\n",
        "#Association Rule Learning (Apriori Algorithm):\n",
        "\n",
        "Discovers interesting relationships or associations between variables in a dataset.\n",
        "#Isolation Forest:\n",
        "\n",
        "Anomaly detection algorithm that isolates anomalies by constructing isolation trees."
      ],
      "metadata": {
        "id": "BsAwa-hcfEGR"
      }
    },
    {
      "cell_type": "code",
      "source": [],
      "metadata": {
        "id": "48TS6ySLfFuR"
      },
      "execution_count": null,
      "outputs": []
    }
  ]
}